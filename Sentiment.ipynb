{
 "cells": [
  {
   "cell_type": "code",
   "execution_count": null,
   "metadata": {},
   "outputs": [
    {
     "name": "stdout",
     "output_type": "stream",
     "text": [
      "Looking in links: https://download.pytorch.org/whl/torch_stable.html\n",
      "Collecting torch==1.8.1+cu111\n",
      "  Downloading https://download.pytorch.org/whl/cu111/torch-1.8.1%2Bcu111-cp37-cp37m-linux_x86_64.whl (1982.2 MB)\n",
      "\u001b[K     |███████████████                 | 923.9 MB 33 kB/s eta 8:46:31622:31:59                            | 2.5 MB 2.0 MB/s eta 0:16:28     |▏                               | 10.4 MB 3.3 MB/s eta 0:09:56     |▋                               | 36.1 MB 3.4 MB/s eta 0:09:31     |▋                               | 36.3 MB 3.4 MB/s eta 0:09:31     |▊                               | 41.8 MB 3.1 MB/s eta 0:10:32     |▊                               | 41.9 MB 3.1 MB/s eta 0:10:32     |▉                               | 50.6 MB 4.3 MB/s eta 0:07:33     |█                               | 59.5 MB 2.9 MB/s eta 0:11:09     |█                               | 62.0 MB 738 kB/s eta 0:43:21     |█▏                              | 73.6 MB 770 kB/s eta 0:41:18     |█▎                              | 78.3 MB 3.1 MB/s eta 0:10:10     |█▍                              | 85.7 MB 4.9 MB/s eta 0:06:31     |█▍                              | 88.8 MB 3.4 MB/s eta 0:09:13     |█▌                              | 89.7 MB 3.4 MB/s eta 0:09:13     |█▌                              | 90.9 MB 2.2 MB/s eta 0:14:18     |█▊                              | 103.3 MB 3.6 MB/s eta 0:08:39     |██                              | 127.2 MB 4.1 MB/s eta 0:07:38     |██▋                             | 163.5 MB 889 kB/s eta 0:34:04     |██▊                             | 168.9 MB 704 kB/s eta 0:42:54     |███▏                            | 197.6 MB 3.8 MB/s eta 0:07:47     |███▎                            | 200.2 MB 1.3 MB/s eta 0:22:41     |███▎                            | 201.7 MB 1.3 MB/s eta 0:22:40     |███▌                            | 213.9 MB 3.6 MB/s eta 0:08:10     |███▋                            | 224.4 MB 3.2 MB/s eta 0:09:09     |███▊                            | 231.1 MB 68 kB/s eta 7:03:38     |███▉                            | 236.7 MB 802 kB/s eta 0:36:16     |███▉                            | 238.3 MB 802 kB/s eta 0:36:14     |████                            | 246.0 MB 3.8 MB/s eta 0:07:36     |████▏                           | 260.4 MB 3.8 MB/s eta 0:07:39     |████▎                           | 264.9 MB 3.1 MB/s eta 0:09:12     |████▍                           | 272.9 MB 3.9 MB/s eta 0:07:18     |████▋                           | 282.2 MB 3.3 MB/s eta 0:08:36     |████▊                           | 295.0 MB 3.7 MB/s eta 0:07:42     |████▉                           | 301.5 MB 3.4 MB/s eta 0:08:19     |█████                           | 315.7 MB 3.2 MB/s eta 0:08:46     |█████▏                          | 317.9 MB 3.2 MB/s eta 0:08:45     |█████▋                          | 345.5 MB 3.3 MB/s eta 0:08:18     |█████▋                          | 346.5 MB 3.3 MB/s eta 0:08:18     |██████▎                         | 387.2 MB 4.0 MB/s eta 0:06:43     |██████▋                         | 410.1 MB 3.1 MB/s eta 0:08:27     |██████▉                         | 420.2 MB 2.9 MB/s eta 0:09:04     |██████▉                         | 421.5 MB 2.9 MB/s eta 0:09:04     |███████▋                        | 474.8 MB 1.9 MB/s eta 0:13:12     |████████▊                       | 540.1 MB 3.5 MB/s eta 0:06:53     |████████▊                       | 541.7 MB 3.5 MB/s eta 0:06:52     |█████████                       | 557.5 MB 3.1 MB/s eta 0:07:41     |█████████▍                      | 580.4 MB 865 kB/s eta 0:26:59     |█████████▌                      | 590.1 MB 3.3 MB/s eta 0:07:04     |██████████▎                     | 637.8 MB 3.3 MB/s eta 0:06:52     |██████████▌                     | 650.2 MB 5.1 MB/s eta 0:04:23     |██████████▋                     | 656.2 MB 3.5 MB/s eta 0:06:21     |██████████▉                     | 671.1 MB 3.7 MB/s eta 0:05:53     |██████████▉                     | 674.4 MB 3.7 MB/s eta 0:05:52     |███████████                     | 676.1 MB 3.1 MB/s eta 0:07:00     |███████████                     | 687.3 MB 3.7 MB/s eta 0:05:47     |███████████▏                    | 689.4 MB 3.1 MB/s eta 0:07:03     |███████████▌                    | 713.0 MB 3.7 MB/s eta 0:05:45     |████████████▎                   | 759.6 MB 1.3 MB/s eta 0:16:04     |████████████▌                   | 777.3 MB 3.2 MB/s eta 0:06:14     |█████████████                   | 800.3 MB 872 kB/s eta 0:22:35     |█████████████                   | 812.0 MB 944 kB/s eta 0:20:40     |█████████████▎                  | 821.7 MB 63 kB/s eta 5:02:26     |█████████████▌                  | 835.7 MB 55 kB/s eta 5:43:00     |█████████████▊                  | 847.0 MB 3.0 MB/s eta 0:06:20     |██████████████                  | 870.9 MB 3.7 MB/s eta 0:04:57     |██████████████                  | 873.3 MB 3.7 MB/s eta 0:04:56     |██████████████                  | 873.5 MB 3.7 MB/s eta 0:04:56     |██████████████▎                 | 886.7 MB 3.9 MB/s eta 0:04:43     |██████████████▍                 | 894.1 MB 3.1 MB/s eta 0:05:53     |██████████████▌                 | 898.6 MB 2.7 MB/s eta 0:06:49"
     ]
    }
   ],
   "source": [
    "!pip install torch==1.8.1+cu111 torchvision==0.9.1+cu111 torchaudio===0.8.1 -f https://download.pytorch.org/whl/torch_stable.html"
   ]
  },
  {
   "cell_type": "code",
   "execution_count": null,
   "metadata": {},
   "outputs": [],
   "source": [
    "!pip install transformers requests beautifulsoup4 pandas numpy"
   ]
  },
  {
   "cell_type": "code",
   "execution_count": null,
   "metadata": {},
   "outputs": [],
   "source": [
    "from transformers import AutoTokenizer, AutoModelForSequenceClassification\n",
    "import torch\n",
    "import requests\n",
    "from bs4 import BeautifulSoup\n",
    "import re"
   ]
  },
  {
   "cell_type": "code",
   "execution_count": null,
   "metadata": {},
   "outputs": [],
   "source": [
    "tokenizer = AutoTokenizer.from_pretrained('nlptown/bert-base-multilingual-uncased-sentiment')\n",
    "\n",
    "model = AutoModelForSequenceClassification.from_pretrained('nlptown/bert-base-multilingual-uncased-sentiment')"
   ]
  },
  {
   "cell_type": "code",
   "execution_count": null,
   "metadata": {},
   "outputs": [],
   "source": [
    "tokens = tokenizer.encode('It was good but couldve been better. Great', return_tensors='pt')"
   ]
  },
  {
   "cell_type": "code",
   "execution_count": null,
   "metadata": {},
   "outputs": [],
   "source": [
    "result = model(tokens)"
   ]
  },
  {
   "cell_type": "code",
   "execution_count": null,
   "metadata": {},
   "outputs": [],
   "source": [
    "result.logits"
   ]
  },
  {
   "cell_type": "code",
   "execution_count": null,
   "metadata": {},
   "outputs": [],
   "source": [
    "int(torch.argmax(result.logits))+1"
   ]
  },
  {
   "cell_type": "code",
   "execution_count": null,
   "metadata": {},
   "outputs": [],
   "source": [
    "r = requests.get('https://www.yelp.com/biz/social-brew-cafe-pyrmont')\n",
    "soup = BeautifulSoup(r.text, 'html.parser')\n",
    "regex = re.compile('.*comment.*')\n",
    "results = soup.find_all('p', {'class':regex})\n",
    "reviews = [result.text for result in results]"
   ]
  },
  {
   "cell_type": "code",
   "execution_count": null,
   "metadata": {},
   "outputs": [],
   "source": [
    "reviews"
   ]
  },
  {
   "cell_type": "code",
   "execution_count": null,
   "metadata": {},
   "outputs": [],
   "source": [
    "import numpy as np\n",
    "import pandas as pd"
   ]
  },
  {
   "cell_type": "code",
   "execution_count": null,
   "metadata": {},
   "outputs": [],
   "source": [
    "df = pd.DataFrame(np.array(reviews), columns=['review'])"
   ]
  },
  {
   "cell_type": "code",
   "execution_count": null,
   "metadata": {},
   "outputs": [],
   "source": [
    "df['review'].iloc[0]"
   ]
  },
  {
   "cell_type": "code",
   "execution_count": null,
   "metadata": {},
   "outputs": [],
   "source": [
    "def sentiment_score(review):\n",
    "    tokens = tokenizer.encode(review, return_tensors='pt')\n",
    "    result = model(tokens)\n",
    "    return int(torch.argmax(result.logits))+1"
   ]
  },
  {
   "cell_type": "code",
   "execution_count": null,
   "metadata": {},
   "outputs": [],
   "source": [
    "sentiment_score(df['review'].iloc[1])"
   ]
  },
  {
   "cell_type": "code",
   "execution_count": null,
   "metadata": {},
   "outputs": [],
   "source": [
    "df['sentiment'] = df['review'].apply(lambda x: sentiment_score(x[:512]))"
   ]
  },
  {
   "cell_type": "code",
   "execution_count": null,
   "metadata": {},
   "outputs": [],
   "source": [
    "df"
   ]
  },
  {
   "cell_type": "code",
   "execution_count": null,
   "metadata": {},
   "outputs": [],
   "source": [
    "df['review'].iloc[3]"
   ]
  },
  {
   "cell_type": "code",
   "execution_count": null,
   "metadata": {},
   "outputs": [],
   "source": []
  }
 ],
 "metadata": {
  "kernelspec": {
   "display_name": "Python 3",
   "language": "python",
   "name": "python3"
  },
  "language_info": {
   "codemirror_mode": {
    "name": "ipython",
    "version": 3
   },
   "file_extension": ".py",
   "mimetype": "text/x-python",
   "name": "python",
   "nbconvert_exporter": "python",
   "pygments_lexer": "ipython3",
   "version": "3.7.6"
  }
 },
 "nbformat": 4,
 "nbformat_minor": 4
}
